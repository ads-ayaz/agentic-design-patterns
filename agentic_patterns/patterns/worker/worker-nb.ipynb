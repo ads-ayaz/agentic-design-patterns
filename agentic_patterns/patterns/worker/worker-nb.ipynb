{
 "cells": [
  {
   "cell_type": "code",
   "execution_count": 1,
   "id": "e6923570",
   "metadata": {},
   "outputs": [
    {
     "data": {
      "text/plain": [
       "True"
      ]
     },
     "execution_count": 1,
     "metadata": {},
     "output_type": "execute_result"
    }
   ],
   "source": [
    "# Load the environment variables\n",
    "from dotenv import load_dotenv\n",
    "\n",
    "load_dotenv(override=True)"
   ]
  },
  {
   "cell_type": "code",
   "execution_count": 2,
   "id": "5fec7418",
   "metadata": {},
   "outputs": [],
   "source": [
    "# Configuration for the Worker agent\n",
    "\n",
    "from agents import ModelSettings\n",
    "from datetime import datetime\n",
    "\n",
    "agent_name = \"Basic Worker\"\n",
    "\n",
    "agent_instructions = \"\"\"\n",
    "You are a single-step Worker. Execute the given task directly and return the best possible result.\n",
    "Do not ask clarifying questions. Do not handoff, delegate, or call tools unless explicitly provided.\n",
    "Prefer concise, correct outputs. Use Markdown formatting when helpful.\n",
    "\"\"\"\n",
    "\n",
    "agent_model = \"gpt-4o-mini\"\n",
    "\n",
    "agent_model_settings=ModelSettings(\n",
    "    model=agent_model,\n",
    "    temperature=0.2,\n",
    "    max_tokens=1000\n",
    ")\n",
    "\n",
    "agent_session_name  = agent_name + datetime.now().strftime(\"%Y-%m-%dT%H:%M:%SU%s\")"
   ]
  },
  {
   "cell_type": "code",
   "execution_count": 3,
   "id": "aec5f603",
   "metadata": {},
   "outputs": [],
   "source": [
    "# Define the Worker agent\n",
    "\n",
    "from agents import Agent, Runner, trace\n",
    "\n",
    "worker = Agent(\n",
    "    name=agent_name,\n",
    "    instructions=agent_instructions,\n",
    "    model_settings=agent_model_settings\n",
    ")"
   ]
  },
  {
   "cell_type": "code",
   "execution_count": 4,
   "id": "c789d164",
   "metadata": {},
   "outputs": [],
   "source": [
    "# Give the agent the ability to remember from one interaction to the next.\n",
    "\n",
    "from agents import SQLiteSession\n",
    "\n",
    "agent_session = SQLiteSession(agent_session_name)"
   ]
  },
  {
   "cell_type": "code",
   "execution_count": 5,
   "id": "2f562a86",
   "metadata": {},
   "outputs": [],
   "source": [
    "async def assign_task(task: str, enable_memory: bool) -> str:\n",
    "    \"\"\"\n",
    "    Asssign a task to the agent and receive its response in return.\n",
    "    \"\"\"\n",
    "\n",
    "    # Check that Worker agent exists\n",
    "    if worker is None:\n",
    "        return \"Agent has not been created yet.\"\n",
    "        \n",
    "    try:\n",
    "        result = None\n",
    "        with trace(worker.name):\n",
    "            if enable_memory:\n",
    "                result = await Runner.run(worker, task, session=agent_session)\n",
    "            else:\n",
    "                result = await Runner.run(worker, task)\n",
    "        return result.final_output\n",
    "    except Exception as e:\n",
    "        return f\"Error: {e}\"\n"
   ]
  },
  {
   "cell_type": "code",
   "execution_count": 6,
   "id": "df305045",
   "metadata": {},
   "outputs": [],
   "source": [
    "from agents import Agent, ModelSettings, Runner, SQLiteSession, trace\n",
    "from datetime import datetime\n",
    "\n",
    "\n",
    "class WorkerPattern:\n",
    "\n",
    "    def __init__(self, agent_name: str = None, agent_instructions: str = None, \n",
    "                 agent_model: str = \"gpt-4o-mini\", \n",
    "                 agent_temperature: float = 0.2, \n",
    "                 agent_max_tokens: int = 1000,\n",
    "                 agent_has_memory: bool = False) -> None:\n",
    "        \"\"\"\n",
    "        Initialize the object and set the private parameters that govern the worker agent.\n",
    "        \"\"\"\n",
    "\n",
    "        # Generate a timestamp string for unique naming\n",
    "        now_string = datetime.now().strftime(\"%Y-%m-%dT%H:%M:%SU%s\")\n",
    "\n",
    "        # Assign the agent a name\n",
    "        self.__agent_name = agent_name or f\"WorkerAgent_{now_string}\"\n",
    "        \n",
    "        # Generate a unique memory Session name\n",
    "        self.__agent_session_name = f\"{self.__agent_name}__SESSION_{now_string}\"\n",
    "\n",
    "        # Set the agent's instructions prompt\n",
    "        self.__agent_instructions = agent_instructions or \"\"\"\n",
    "            You are a single-step Worker. Execute the given task directly and return the best possible result.\n",
    "            Do not ask clarifying questions. Do not handoff, delegate, or call tools unless explicitly provided.\n",
    "            Prefer concise, correct outputs. Use Markdown formatting when helpful.\n",
    "        \"\"\"\n",
    "\n",
    "        # Set additional agent parameters\n",
    "        self.__agent_model = agent_model\n",
    "        self.__agent_temperature = float(agent_temperature)\n",
    "        self.__agent_max_tokens = int(agent_max_tokens)\n",
    "        self.__agent_has_memory = bool(agent_has_memory)\n",
    "\n",
    "        self.__worker_agent = None\n",
    "        self.__agent_session = None\n",
    "\n",
    "\n",
    "    def __create_agent(self):\n",
    "        \"\"\"\n",
    "        Create the worker agent and a session (if the agent is meant to have memory).\n",
    "        \"\"\"\n",
    "\n",
    "        agent_model_settings = ModelSettings(\n",
    "            temperature=self.__agent_temperature,\n",
    "            max_tokens=self.__agent_max_tokens\n",
    "        )\n",
    "\n",
    "        self.__worker_agent = Agent(\n",
    "            name=self.__agent_name,\n",
    "            instructions=self.__agent_instructions,\n",
    "            model=self.__agent_model,\n",
    "            model_settings=agent_model_settings\n",
    "        )\n",
    "\n",
    "        if self.__agent_has_memory:\n",
    "            self.__agent_session = SQLiteSession(self.__agent_session_name)\n",
    "        \n",
    "\n",
    "        \n",
    "    async def assign_task(self, task: str, enable_memory: bool) -> str:\n",
    "        \"\"\"\n",
    "        Asssign a task to the agent and receive its response in return.\n",
    "        \"\"\"\n",
    "\n",
    "        # Check that Worker agent exists\n",
    "        if self.__worker_agent is None:\n",
    "            self.__create_agent()\n",
    "            \n",
    "        try:\n",
    "            result = None\n",
    "            with trace(self.__worker_agent.name):\n",
    "                if enable_memory:\n",
    "                    result = await Runner.run(self.__worker_agent, task, session=self.__agent_session)\n",
    "                else:\n",
    "                    result = await Runner.run(self.__worker_agent, task, session=None)\n",
    "            return result.final_output\n",
    "        except Exception as e:\n",
    "            return f\"Error: {e}\"\n",
    "    "
   ]
  },
  {
   "cell_type": "code",
   "execution_count": null,
   "id": "2d0f0588",
   "metadata": {},
   "outputs": [
    {
     "name": "stdout",
     "output_type": "stream",
     "text": [
      "* Running on local URL:  http://127.0.0.1:7861\n",
      "* To create a public link, set `share=True` in `launch()`.\n"
     ]
    },
    {
     "data": {
      "text/html": [
       "<div><iframe src=\"http://127.0.0.1:7861/\" width=\"100%\" height=\"500\" allow=\"autoplay; camera; microphone; clipboard-read; clipboard-write;\" frameborder=\"0\" allowfullscreen></iframe></div>"
      ],
      "text/plain": [
       "<IPython.core.display.HTML object>"
      ]
     },
     "metadata": {},
     "output_type": "display_data"
    },
    {
     "data": {
      "text/plain": []
     },
     "execution_count": 8,
     "metadata": {},
     "output_type": "execute_result"
    }
   ],
   "source": [
    "# Create a gradio interface to interact with the worker agent\n",
    "\n",
    "import gradio as gr\n",
    "\n",
    "# Set this to True if you want to test WorkerPattern object, False to test the standalone methods.\n",
    "use_worker_pattern = False\n",
    "\n",
    "with gr.Blocks(title=\"Worker — Agentic Design Patterns\") as demo:\n",
    "\n",
    "    wp = WorkerPattern(agent_has_memory=True) if use_worker_pattern else None\n",
    "\n",
    "    gr.Markdown(\"\"\"\n",
    "    # 🛠️ Worker Pattern\n",
    "    \n",
    "    This is a simple worker agent that can be used to perform single-step execution tasks without delegation or validation. Ask, and it will do its best to complete the task.\n",
    "    \"\"\")\n",
    "\n",
    "    with gr.Column():\n",
    "        with gr.Row():\n",
    "            task = gr.Textbox(label=\"Task\", placeholder=\"What do you want the Worker to do?\", lines=4, scale=9)\n",
    "            with gr.Column(scale=1):\n",
    "                enable_memory = gr.Checkbox(label=\"Remember Stuff\")\n",
    "                run_btn = gr.Button(\"Ask\", variant=\"primary\", scale=1)\n",
    "        out = gr.Markdown(label=\"Result\")\n",
    "\n",
    "    async def on_run(task:str, memory: bool):\n",
    "        run_btn.interactive = False  # disable button while running\n",
    "        try:\n",
    "            if wp:\n",
    "                return await wp.assign_task(task, memory)\n",
    "            else:\n",
    "                return await assign_task(task, memory)\n",
    "        finally:\n",
    "            run_btn.interactive = True  # re-enable button\n",
    "\n",
    "    run_btn.click(on_run, inputs=[task, enable_memory], outputs=[out])\n",
    "    task.submit(on_run, inputs=[task, enable_memory], outputs=[out])\n",
    "\n",
    "demo.launch(inline=True)"
   ]
  }
 ],
 "metadata": {
  "kernelspec": {
   "display_name": ".venv",
   "language": "python",
   "name": "python3"
  },
  "language_info": {
   "codemirror_mode": {
    "name": "ipython",
    "version": 3
   },
   "file_extension": ".py",
   "mimetype": "text/x-python",
   "name": "python",
   "nbconvert_exporter": "python",
   "pygments_lexer": "ipython3",
   "version": "3.12.11"
  }
 },
 "nbformat": 4,
 "nbformat_minor": 5
}
