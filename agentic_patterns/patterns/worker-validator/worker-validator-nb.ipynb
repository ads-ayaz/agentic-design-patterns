{
 "cells": [
  {
   "cell_type": "code",
   "execution_count": 1,
   "id": "844816fb",
   "metadata": {},
   "outputs": [
    {
     "data": {
      "text/plain": [
       "True"
      ]
     },
     "execution_count": 1,
     "metadata": {},
     "output_type": "execute_result"
    }
   ],
   "source": [
    "# Load the environment variables\n",
    "from dotenv import load_dotenv\n",
    "\n",
    "load_dotenv(override=True)"
   ]
  },
  {
   "cell_type": "code",
   "execution_count": 2,
   "id": "e138f775",
   "metadata": {},
   "outputs": [],
   "source": [
    "!mkdir -p tmp"
   ]
  },
  {
   "cell_type": "code",
   "execution_count": 3,
   "id": "60306404",
   "metadata": {},
   "outputs": [
    {
     "name": "stdout",
     "output_type": "stream",
     "text": [
      "Writing ./tmp/agents-config.yaml\n"
     ]
    }
   ],
   "source": [
    "%%writefile ./tmp/agents-config.yaml\n",
    "# agents-config.yaml\n",
    "worker:\n",
    "  name: Basic Worker\n",
    "  instructions: |\n",
    "    You are a single-step Worker. Execute the given task directly and return the best possible result.\n",
    "    Do not ask clarifying questions. Do not handoff, delegate, or call tools unless explicitly provided.\n",
    "    Prefer concise, correct outputs. Use Markdown formatting when helpful.\n",
    "  model: gpt-4o-mini\n",
    "  temperature: 0.2\n",
    "  max_tokens: 1000\n",
    "\n",
    "validator:\n",
    "  name: Basic Validator\n",
    "  instructions: |\n",
    "    You are a Validator agent in a Worker–Validator loop. Your role is to **assess whether \n",
    "    the Worker’s output meets the task objective and success criteria**.\n",
    "    \n",
    "    Your job is **not to redo the research yourself**, but to:\n",
    "    1. Decide if the output is acceptable for publication to senior business and technology leaders.\n",
    "    2. If not, give precise, actionable feedback so the Worker can correct it.\n",
    "  model: gpt-4o-mini\n",
    "  temperature: 0.2\n",
    "  max_tokens: 1000"
   ]
  },
  {
   "cell_type": "code",
   "execution_count": 4,
   "id": "dd4bff42",
   "metadata": {},
   "outputs": [
    {
     "name": "stdout",
     "output_type": "stream",
     "text": [
      "{\n",
      "    \"worker\": {\n",
      "        \"name\": \"Basic Worker\",\n",
      "        \"instructions\": \"You are a single-step Worker. Execute the given task directly and return the best possible result.\\nDo not ask clarifying questions. Do not handoff, delegate, or call tools unless explicitly provided.\\nPrefer concise, correct outputs. Use Markdown formatting when helpful.\\n\",\n",
      "        \"model\": \"gpt-4o-mini\",\n",
      "        \"temperature\": 0.2,\n",
      "        \"max_tokens\": 1000\n",
      "    },\n",
      "    \"validator\": {\n",
      "        \"name\": \"Basic Validator\",\n",
      "        \"instructions\": \"You are a Validator agent in a Worker\\u2013Validator loop. Your role is to **assess whether \\nthe Worker\\u2019s output meets the task objective and success criteria**.\\n\\nYour job is **not to redo the research yourself**, but to:\\n1. Decide if the output is acceptable for publication to senior business and technology leaders.\\n2. If not, give precise, actionable feedback so the Worker can correct it.\\n\",\n",
      "        \"model\": \"gpt-4o-mini\",\n",
      "        \"temperature\": 0.2,\n",
      "        \"max_tokens\": 1000\n",
      "    }\n",
      "}\n"
     ]
    }
   ],
   "source": [
    "# Load the agents-config.yaml file\n",
    "\n",
    "import json\n",
    "import yaml\n",
    "\n",
    "with open('./tmp/agents-config.yaml', 'r') as file:\n",
    "    agent_config_data = yaml.safe_load(file)\n",
    "\n",
    "formatted_json = json.dumps(agent_config_data, indent=4)\n",
    "print(formatted_json)"
   ]
  },
  {
   "cell_type": "code",
   "execution_count": null,
   "id": "fd116726",
   "metadata": {},
   "outputs": [
    {
     "data": {
      "text/plain": [
       "Agent(name='Basic Worker', handoff_description=None, tools=[], mcp_servers=[], mcp_config={}, instructions='You are a single-step Worker. Execute the given task directly and return the best possible result.\\nDo not ask clarifying questions. Do not handoff, delegate, or call tools unless explicitly provided.\\nPrefer concise, correct outputs. Use Markdown formatting when helpful.\\n', prompt=None, handoffs=[], model='gpt-4o-mini', model_settings=ModelSettings(temperature=0.2, top_p=None, frequency_penalty=None, presence_penalty=None, tool_choice=None, parallel_tool_calls=None, truncation=None, max_tokens=1000, reasoning=None, metadata=None, store=None, include_usage=None, response_include=None, top_logprobs=None, extra_query=None, extra_body=None, extra_headers=None, extra_args=None), input_guardrails=[], output_guardrails=[], output_type=None, hooks=None, tool_use_behavior='run_llm_again', reset_tool_choice=True)"
      ]
     },
     "execution_count": 16,
     "metadata": {},
     "output_type": "execute_result"
    }
   ],
   "source": [
    "from agents import Agent, ModelSettings\n",
    "\n",
    "def create_agent(agent_type: str = None):\n",
    "    \"\"\" \n",
    "    Creates and returns an Agent that matches the given definition in the agents-config YAML file.\n",
    "    \"\"\"\n",
    "    \n",
    "    if agent_type is None or not agent_type.strip():\n",
    "        raise ValueError(\"agent_type must be a valid type of agent defined in agent-configs.yaml.\")\n",
    "    \n",
    "    agent_config = agent_config_data.get(agent_type)\n",
    "    if agent_config is None:\n",
    "        raise ValueError(f\"'{agent_type}' does not match an agent defined in agent-configs.yaml.\")\n",
    "\n",
    "    agent_model_settings=ModelSettings(\n",
    "        temperature=agent_config['temperature'],\n",
    "        max_tokens=agent_config['max_tokens'],\n",
    "    )\n",
    "\n",
    "    new_agent = Agent(\n",
    "        name=agent_config['name'],\n",
    "        instructions=agent_config['instructions'],\n",
    "        model=agent_config['model'],\n",
    "        model_settings=agent_model_settings\n",
    "    )        \n",
    "\n",
    "    return new_agent\n",
    "\n",
    "worker = create_agent('worker')\n",
    "validator = create_agent('validator')\n"
   ]
  }
 ],
 "metadata": {
  "kernelspec": {
   "display_name": ".venv",
   "language": "python",
   "name": "python3"
  },
  "language_info": {
   "codemirror_mode": {
    "name": "ipython",
    "version": 3
   },
   "file_extension": ".py",
   "mimetype": "text/x-python",
   "name": "python",
   "nbconvert_exporter": "python",
   "pygments_lexer": "ipython3",
   "version": "3.12.11"
  }
 },
 "nbformat": 4,
 "nbformat_minor": 5
}
